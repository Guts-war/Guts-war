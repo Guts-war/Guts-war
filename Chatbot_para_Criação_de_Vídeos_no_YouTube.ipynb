{
  "cells": [
    {
      "cell_type": "markdown",
      "metadata": {
        "id": "view-in-github",
        "colab_type": "text"
      },
      "source": [
        "<a href=\"https://colab.research.google.com/github/Guts-war/Guts-war/blob/main/Chatbot_para_Cria%C3%A7%C3%A3o_de_V%C3%ADdeos_no_YouTube.ipynb\" target=\"_parent\"><img src=\"https://colab.research.google.com/assets/colab-badge.svg\" alt=\"Open In Colab\"/></a>"
      ]
    },
    {
      "cell_type": "code",
      "source": [
        "!pip install -q google-adk\n",
        "\n",
        "import os\n",
        "from google.colab import userdata\n",
        "from google import genai\n",
        "from google.adk.agents import Agent\n",
        "from google.adk.runners import Runner\n",
        "from google.adk.sessions import InMemorySessionService\n",
        "from google.adk.tools import google_search\n",
        "from google.genai import types\n",
        "from datetime import date\n",
        "import textwrap\n",
        "from IPython.display import display, Markdown\n",
        "import warnings\n",
        "\n",
        "warnings.filterwarnings(\"ignore\")\n",
        "\n",
        "# Configura a API Key do Google Gemini\n",
        "os.environ[\"GOOGLE_API_KEY\"] = userdata.get('GOOGLE_API_KEY')\n",
        "client = genai.Client()\n",
        "model = \"gemini-2.0-flash\"\n",
        "\n",
        "# Função auxiliar para enviar mensagem ao agente e obter resposta\n",
        "def call_agent(agent: Agent, message_text: str) -> str:\n",
        "    session_service = InMemorySessionService()\n",
        "    session = session_service.create_session(app_name=agent.name, user_id=\"user1\", session_id=\"session1\")\n",
        "    runner = Runner(agent=agent, app_name=agent.name, session_service=session_service)\n",
        "    content = types.Content(role=\"user\", parts=[types.Part(text=message_text)])\n",
        "    final_response = \"\"\n",
        "    for event in runner.run(user_id=\"user1\", session_id=\"session1\", new_message=content):\n",
        "        if event.is_final_response():\n",
        "            for part in event.content.parts:\n",
        "                if part.text is not None:\n",
        "                    final_response += part.text + \"\\n\"\n",
        "    return final_response\n",
        "\n",
        "# Função auxiliar para exibir texto formatado\n",
        "def to_markdown(text):\n",
        "    text = text.replace('•', '  *')\n",
        "    return Markdown(textwrap.indent(text, '> ', predicate=lambda _: True))\n",
        "\n",
        "# Agente 1: Buscador de Conteúdo\n",
        "def agente_buscador(topico, data_de_hoje):\n",
        "    buscador = Agent(\n",
        "        name=\"agente_buscador\",\n",
        "        model=model,\n",
        "        description=\"Busca conteúdos relevantes na web.\",\n",
        "        tools=[google_search],\n",
        "        instruction=\"\"\"\n",
        "        Você é um agente de pesquisa na internet. Sua tarefa é usar a ferramenta de busca do Google\n",
        "        (google_search) para encontrar os lançamentos e notícias mais recentes e relevantes sobre\n",
        "        o tópico fornecido. Foque em conteúdos que sejam atuais, no máximo um mês antes da data de hoje.\n",
        "        \"\"\"\n",
        "    )\n",
        "    entrada_do_agente_buscador = f\"Tópico: {topico}\\nData de hoje: {data_de_hoje}\"\n",
        "    conteudos_buscados = call_agent(buscador, entrada_do_agente_buscador)\n",
        "    return conteudos_buscados\n",
        "\n",
        "# Agente 2: Selecionador de Conteúdo\n",
        "def agente_selecionador(topico, conteudos_buscados):\n",
        "    selecionador = Agent(\n",
        "        name=\"agente_selecionador\",\n",
        "        model=model,\n",
        "        description=\"Seleciona os conteúdos mais relevantes para o vídeo.\",\n",
        "        instruction=\"\"\"\n",
        "        Você é um especialista em conteúdo para YouTube. A partir dos conteúdos encontrados pelo\n",
        "        agente de busca, você deve selecionar os mais relevantes e interessantes para um vídeo no YouTube\n",
        "        sobre o tópico fornecido. Considere a relevância, o potencial de engajamento e a adequação ao público-alvo.\n",
        "        Apresente os conteúdos selecionados em formato de lista, destacando os principais pontos de cada um.\n",
        "        \"\"\",\n",
        "    )\n",
        "    entrada_do_agente_selecionador = f\"Tópico: {topico}\\nConteúdos buscados: {conteudos_buscados}\"\n",
        "    conteudos_selecionados = call_agent(selecionador, entrada_do_agente_selecionador)\n",
        "    return conteudos_selecionados\n",
        "\n",
        "# Agente 3: Criador de Roteiro\n",
        "def agente_criador_roteiro(topico, conteudos_selecionados):\n",
        "    criador_roteiro = Agent(\n",
        "        name=\"agente_criador_roteiro\",\n",
        "        model=model,\n",
        "        description=\"Cria um roteiro de vídeo para o YouTube.\",\n",
        "        instruction=\"\"\"\n",
        "        Você é um roteirista de vídeos para o YouTube. Com base nos conteúdos selecionados,\n",
        "        crie um roteiro completo e detalhado para um vídeo no YouTube sobre o tópico fornecido.\n",
        "        O roteiro deve incluir:\n",
        "        - Título do vídeo\n",
        "        - Introdução (gancho, apresentação do tema)\n",
        "        - Desenvolvimento (divisão em seções, detalhes dos conteúdos, exemplos)\n",
        "        - Ideias de elementos visuais (imagens, vídeos, gráficos) para cada seção\n",
        "        - Sugestões de música de fundo e efeitos sonoros\n",
        "        - Chamada para ação (CTA)\n",
        "        - Encerramento\n",
        "        Use uma linguagem clara, concisa e envolvente.\n",
        "        \"\"\",\n",
        "    )\n",
        "    entrada_do_agente_criador_roteiro = f\"Tópico: {topico}\\nConteúdos selecionados: {conteudos_selecionados}\"\n",
        "    roteiro_do_video = call_agent(criador_roteiro, entrada_do_agente_criador_roteiro)\n",
        "    return roteiro_do_video\n",
        "\n",
        "# Agente 4: Produtor Multimídia\n",
        "def agente_produtor_multimidia(topico, roteiro_do_video):\n",
        "    produtor_multimidia = Agent(\n",
        "        name=\"agente_produtor_multimidia\",\n",
        "        model=model,\n",
        "        description=\"Gera os arquivos de multimídia para o vídeo.\",\n",
        "        instruction=\"\"\"\n",
        "        Você é um produtor de multimídia. A partir do roteiro do vídeo, você deve gerar os arquivos\n",
        "        necessários para a produção do vídeo, incluindo:\n",
        "        - Imagens (descreva as imagens necessárias para cada seção do vídeo)\n",
        "        - Vídeos (descreva os vídeos necessários, se houver)\n",
        "        - Áudios (descreva a música de fundo e os efeitos sonoros necessários)\n",
        "        Especifique os tipos de arquivos, formatos e durações aproximadas.\n",
        "        E informe links, de onde o conteúdo pode ser baixado.\n",
        "        \"\"\",\n",
        "    )\n",
        "    entrada_do_agente_produtor_multimidia = f\"Tópico: {topico}\\nRoteiro do vídeo: {roteiro_do_video}\"\n",
        "    arquivos_multimidia = call_agent(produtor_multimidia, entrada_do_agente_produtor_multimidia)\n",
        "    return arquivos_multimidia\n",
        "\n",
        "# Função principal para executar o chatbot\n",
        "def criar_video_youtube():\n",
        "    data_de_hoje = date.today().strftime(\"%d/%m/%Y\")\n",
        "    print(\"🚀 Iniciando o Sistema de Criação de Vídeos para o YouTube com 4 Agentes 🚀\")\n",
        "    topico = input(\"❓ Por favor, digite o TÓPICO sobre o qual você quer criar o vídeo: \")\n",
        "\n",
        "    if not topico:\n",
        "        print(\"❌ Tópico inválido. Por favor, insira um tópico válido.\")\n",
        "        return\n",
        "\n",
        "    print(f\"Maravilha, vamos criar um vídeo sobre {topico}!\")\n",
        "\n",
        "    conteudos_buscados = agente_buscador(topico, data_de_hoje)\n",
        "    print(\"\\n--- Resultado do Agente 1 (Buscador de Conteúdo) ---\\n\")\n",
        "    display(to_markdown(conteudos_buscados))\n",
        "    print(\"---------------------------------\\n\")\n",
        "\n",
        "    conteudos_selecionados = agente_selecionador(topico, conteudos_buscados)\n",
        "    print(\"\\n--- Resultado do Agente 2 (Selecionador de Conteúdo) ---\\n\")\n",
        "    display(to_markdown(conteudos_selecionados))\n",
        "    print(\"---------------------------------\\n\")\n",
        "\n",
        "    roteiro_do_video = agente_criador_roteiro(topico, conteudos_selecionados)\n",
        "    print(\"\\n--- Resultado do Agente 3 (Criador de Roteiro) ---\\n\")\n",
        "    display(to_markdown(roteiro_do_video))\n",
        "    print(\"---------------------------------\\n\")\n",
        "\n",
        "    arquivos_multimidia = agente_produtor_multimidia(topico, roteiro_do_video)\n",
        "    print(\"\\n--- Resultado do Agente 4 (Produtor Multimídia) ---\\n\")\n",
        "    display(to_markdown(arquivos_multimidia))\n",
        "    print(\"---------------------------------\\n\")\n",
        "\n",
        "if __name__ == \"__main__\":\n",
        "    criar_video_youtube()"
      ],
      "outputs": [
        {
          "output_type": "stream",
          "name": "stdout",
          "text": [
            "🚀 Iniciando o Sistema de Criação de Vídeos para o YouTube com 4 Agentes 🚀\n",
            "❓ Por favor, digite o TÓPICO sobre o qual você quer criar o vídeo: Erros do Concílio de Trento\n",
            "Maravilha, vamos criar um vídeo sobre Erros do Concílio de Trento!\n",
            "\n",
            "--- Resultado do Agente 1 (Buscador de Conteúdo) ---\n",
            "\n"
          ]
        },
        {
          "output_type": "display_data",
          "data": {
            "text/plain": [
              "<IPython.core.display.Markdown object>"
            ],
            "text/markdown": "> Para responder à sua pergunta sobre \"Erros do Concílio de Trento\", preciso buscar informações atualizadas sobre este tema, focando em análises ou discussões recentes que possam ter surgido. Considerando que o Concílio de Trento é um evento histórico, a busca será direcionada a interpretações ou críticas modernas.\n> \n> \n> Com base nas informações encontradas, o Concílio de Trento, realizado entre 1545 e 1563, foi um marco na história da Igreja Católica, principalmente em resposta à Reforma Protestante. Em vez de focar em \"erros\", é mais preciso analisar as críticas e reinterpretações modernas sobre o concílio.\n> \n> *   **Reafirmação de Dogmas e Doutrinas:** O Concílio reafirmou dogmas católicos como os sete sacramentos, a autoridade papal, a salvação pelas obras, o culto aos santos e a doutrina da transubstanciação (Toda Matéria, Brasil Escola, Concílio Ecumênico de Trento - MONTFORT).\n> *   **Controle e Disciplina:** O Concílio de Trento estabeleceu um sistema de controle social através da necessidade de confissão sistemática dos pecados (Uma Igreja, dois mundos: análise das diretrizes conciliares apresentadas em Trento e em Lima (séc).\n> *   **Formação do Clero:** Foi dada grande ênfase à formação do clero, com a criação de seminários (O CONCÍLIO DE TRENTO E A FORMAÇÃO SACERDOTAL TRIDENTINA NA AMÉRICA PORTUGUESA).\n> *   **Relação com a Modernidade:** O Concílio precisou enfrentar valores da modernidade, como a negação de dogmas e a prevalência da razão (O CONCÍLIO DE TRENTO E A FORMAÇÃO SACERDOTAL TRIDENTINA NA AMÉRICA PORTUGUESA).\n> *   **Críticas Modernas:** Alguns autores questionam o caráter dogmático de certas decisões do Concílio, como a indissolubilidade do matrimônio (O Concílio de Trento e a indissolubilidade do matrimónio).\n> *   **Modelo Eclesial:** Há debates sobre o modelo de Igreja que emergiu do Concílio de Trento, visto como tradicional, centralista e de confronto, em contraste com o modelo do Concílio Vaticano II, que busca maior diálogo e abertura (Os trabalhos do novo Papa e os debates para o futuro do catolicismo - Sete Margens).\n> *   **Relevância Contínua:** Apesar das críticas, alguns argumentam que os preceitos do Concílio de Trento continuam relevantes, enquanto outros defendem uma revisão dos modelos de organização eclesial (II Concílio do Vaticano: A luz de Trento ainda ilumina a Igreja contemporânea, A longa sombra de Trento: a crise dos abusos, dos seminários, das dioceses e do laicato. Artigo de Massimo Faggioli - IHU).\n> \n> É importante notar que a interpretação do Concílio de Trento é um tema complexo e multifacetado, com diversas perspectivas e análises ao longo da história.\n> \n"
          },
          "metadata": {}
        },
        {
          "output_type": "stream",
          "name": "stdout",
          "text": [
            "---------------------------------\n",
            "\n",
            "\n",
            "--- Resultado do Agente 2 (Selecionador de Conteúdo) ---\n",
            "\n"
          ]
        },
        {
          "output_type": "display_data",
          "data": {
            "text/plain": [
              "<IPython.core.display.Markdown object>"
            ],
            "text/markdown": "> ## Sugestões de Conteúdo para Vídeo no YouTube: \"Erros\" do Concílio de Trento (Uma Análise Crítica)\n> \n> Considerando o material encontrado, sugiro os seguintes pontos para estruturar um vídeo interessante e informativo sobre o Concílio de Trento, evitando focar em \"erros\" (já que o termo pode ser carregado) e optando por uma análise crítica:\n> \n> 1.  **Introdução:**\n>     *   Contextualize o Concílio de Trento: Reforma Protestante, crise na Igreja Católica.\n>     *   Explique que, em vez de \"erros\", o vídeo abordará as **críticas e reinterpretações modernas** do Concílio.\n>     *   Apresente a importância do Concílio para a Igreja Católica e seu impacto duradouro.\n> \n> 2.  **Reafirmações Dogmáticas e Doutrinárias:**\n>     *   Liste e explique os principais dogmas e doutrinas reafirmadas:\n>         *   Sete Sacramentos\n>         *   Autoridade Papal\n>         *   Salvação pelas Obras\n>         *   Culto aos Santos\n>         *   Transubstanciação\n>     *   Questione: Por que essas reafirmações foram necessárias? Qual o impacto delas na época e hoje?\n> \n> 3.  **Controle Social e Disciplina:**\n>     *   Explore o sistema de controle social implementado através da confissão sistemática.\n>     *   Debate: Esse controle era necessário? Quais as consequências positivas e negativas?\n> \n> 4.  **Formação do Clero:**\n>     *   Destaque a importância da criação de seminários e a ênfase na formação do clero.\n>     *   Questione: Essa ênfase contribuiu para a qualidade do clero? Como a formação do clero evoluiu desde então?\n> \n> 5.  **O Concílio e a Modernidade:**\n>     *   Analise como o Concílio lidou com os valores emergentes da modernidade (razão, ciência, etc.).\n>     *   Debate: O Concílio se adaptou bem à modernidade? Que tensões surgiram?\n> \n> 6.  **Críticas Modernas e Reinterpretações:**\n>     *   Apresente as principais críticas modernas ao Concílio:\n>         *   Caráter dogmático de algumas decisões (ex: indissolubilidade do matrimônio)\n>         *   Modelo de Igreja centralista e de confronto\n>     *   Inclua diferentes perspectivas de autores e estudiosos modernos.\n> \n> 7.  **O Legado do Concílio de Trento:**\n>     *   Discuta a relevância contínua dos preceitos do Concílio.\n>     *   Questione: Os modelos de organização eclesial precisam ser revisados à luz do Concílio Vaticano II?\n> \n> 8.  **Conclusão:**\n>     *   Reafirme a complexidade e multifacetamento do tema.\n>     *   Incentive os espectadores a pesquisarem e formarem suas próprias opiniões.\n>     *   Lance perguntas para debate nos comentários: Qual sua opinião sobre o Concílio de Trento? Qual o impacto dele na Igreja Católica hoje?\n> \n> **Observações Importantes:**\n> \n> *   **Tom:** Mantenha um tom informativo e objetivo, evitando juízos de valor. O objetivo é apresentar diferentes perspectivas e estimular o debate.\n> *   **Recursos Visuais:** Utilize imagens de época, mapas, citações de documentos relevantes e entrevistas com especialistas para enriquecer o vídeo.\n> *   **Público-Alvo:** Considere o nível de conhecimento do seu público sobre história da Igreja e teologia. Adapte a linguagem e a profundidade da análise de acordo.\n> *   **Fontes:** Mencione todas as fontes utilizadas na descrição do vídeo para dar credibilidade ao conteúdo.\n> *   **SEO:** Utilize palavras-chave relevantes no título, descrição e tags do vídeo para otimizar a busca no YouTube.\n> \n> Ao seguir essas sugestões, você poderá criar um vídeo informativo, interessante e que promova uma reflexão crítica sobre um dos eventos mais importantes da história da Igreja Católica.\n> \n"
          },
          "metadata": {}
        },
        {
          "output_type": "stream",
          "name": "stdout",
          "text": [
            "---------------------------------\n",
            "\n",
            "\n",
            "--- Resultado do Agente 3 (Criador de Roteiro) ---\n",
            "\n"
          ]
        },
        {
          "output_type": "display_data",
          "data": {
            "text/plain": [
              "<IPython.core.display.Markdown object>"
            ],
            "text/markdown": "> ## Roteiro de Vídeo para YouTube: Concílio de Trento: Críticas e Reinterpretações Modernas\n> \n> **Título:** Concílio de Trento: Reafirmações, Críticas e o Legado na Igreja Católica de Hoje\n> \n> **Miniatura:**\n> *   Imagem: Uma representação artística do Concílio de Trento com um filtro moderno e reflexivo.\n> *   Texto: Concílio de Trento: O que ficou? O que mudou?\n> \n> **Música de Fundo:**\n> *   Introdução: Música clássica suave e reflexiva.\n> *   Desenvolvimento: Variações na intensidade da música de acordo com o tema (mais tensa em críticas, mais suave em legados).\n> *   Conclusão: Música inspiradora e convidativa ao debate.\n> \n> **Introdução (0:00 - 1:00)**\n> \n> *   **Visual:**\n>     *   Abertura com imagens da Europa no século XVI: Reforma Protestante, mapas da época, retratos de Lutero e outros reformadores.\n>     *   Logotipo do canal e título do vídeo.\n> *   **Áudio:**\n>     *   **[Música suave]**\n>     *   **Roteiro:**\n>         *   **[Apresentador(a)]:** \"Olá, pessoal! Sejam bem-vindos ao canal. No vídeo de hoje, vamos mergulhar em um dos eventos mais importantes e controversos da história da Igreja Católica: o Concílio de Trento.\"\n>         *   \"Em meados do século XVI, a Igreja enfrentava uma crise sem precedentes com a Reforma Protestante. Em resposta, o Papa Paulo III convocou o Concílio de Trento. Longe de ser um mero evento histórico, o Concílio moldou a Igreja Católica pelos séculos seguintes.\"\n>         *   \"Hoje, ao invés de focar em 'erros', vamos analisar criticamente as principais decisões do Concílio, as críticas que surgiram ao longo do tempo e como suas decisões são reinterpretadas no mundo contemporâneo.\"\n>         *   \"Preparem-se para uma jornada de reflexão e debate. Se você se interessa por história da Igreja e teologia, este vídeo é para você! Já deixe seu like e inscreva-se no canal para não perder os próximos vídeos.\"\n> \n> **Reafirmações Dogmáticas e Doutrinárias (1:00 - 4:00)**\n> \n> *   **Visual:**\n>     *   Imagens dos Sete Sacramentos (batismo, eucaristia, etc.).\n>     *   Representação da Autoridade Papal (brasões, fotos do Vaticano).\n>     *   Ilustrações do culto aos santos e da Transubstanciação.\n>     *   Gráfico comparando as visões católicas e protestantes sobre a salvação.\n> *   **Áudio:**\n>     *   **[Música de fundo com ritmo moderado]**\n>     *   **[Efeito sonoro suave ao trocar de tópico]**\n>     *   **Roteiro:**\n>         *   **[Apresentador(a)]:** \"O Concílio de Trento foi um momento crucial de reafirmação da doutrina católica. Em resposta aos protestantes, o Concílio reafirmou os Sete Sacramentos, a autoridade do Papa, a importância das obras para a salvação, o culto aos santos e a doutrina da Transubstanciação.\"\n>         *   \"Vamos analisar cada um desses pontos. Por que a Igreja sentiu a necessidade de reafirmá-los? Qual era a visão dos protestantes? E, mais importante, qual o impacto dessas reafirmações na vida dos fiéis e na estrutura da Igreja?\"\n>         *   \"Por exemplo, a reafirmação da Transubstanciação, a crença de que o pão e o vinho se transformam no corpo e sangue de Cristo, foi uma resposta direta à visão simbólica da Ceia defendida por alguns reformadores. Essa decisão moldou a liturgia e a teologia eucarística católica por séculos.\"\n>         *   \"**[Inserir fala de um especialista (vídeo curto ou áudio)]**: 'A reafirmação da autoridade papal no Concílio de Trento solidificou o poder centralizado da Igreja, mas também gerou tensões e críticas sobre o autoritarismo'.\"\n> \n> **Controle Social e Disciplina (4:00 - 6:00)**\n> \n> *   **Visual:**\n>     *   Imagens de confessionários e cenas de confissão (pinturas, ilustrações).\n>     *   Representações de regras e regulamentos da época.\n>     *   Infográficos sobre o sistema de confissão sistemática.\n> *   **Áudio:**\n>     *   **[Música de fundo com tom um pouco mais tenso]**\n>     *   **[Efeito sonoro suave]**\n>     *   **Roteiro:**\n>         *   **[Apresentador(a)]:** \"Além das questões doutrinárias, o Concílio também implementou um sistema de controle social e disciplina através da confissão sistemática. A confissão se tornou uma ferramenta para monitorar a conduta dos fiéis e garantir a adesão aos preceitos da Igreja.\"\n>         *   \"Esse controle era necessário? Quais as consequências positivas e negativas? A confissão ajudou a fortalecer a fé e a moralidade, ou gerou um clima de medo e opressão?\"\n>         *   \"É importante ressaltar que o sistema de confissão também oferecia um espaço para o perdão e a reconciliação, mas é inegável que ele também representava uma forma de vigilância e controle social.\"\n> \n> **Formação do Clero (6:00 - 8:00)**\n> \n> *   **Visual:**\n>     *   Imagens de seminários antigos e modernos.\n>     *   Representações de aulas e estudos teológicos.\n>     *   Fotos de padres e líderes religiosos em diferentes épocas.\n> *   **Áudio:**\n>     *   **[Música de fundo com tom mais positivo]**\n>     *   **[Efeito sonoro suave]**\n>     *   **Roteiro:**\n>         *   **[Apresentador(a)]:** \"Uma das decisões mais importantes do Concílio foi a criação de seminários para a formação do clero. Antes, a formação dos padres era muitas vezes inadequada, o que contribuía para a crise da Igreja. Com os seminários, a Igreja buscou garantir um clero mais instruído e preparado para lidar com os desafios da época.\"\n>         *   \"Essa ênfase na formação do clero contribuiu para a qualidade do clero? Como a formação do clero evoluiu desde então? Os seminários ainda são relevantes hoje em dia?\"\n>         *   \"**[Inserir depoimento de um padre ou seminarista (vídeo curto ou áudio)]**: 'A formação em um seminário é fundamental para preparar os futuros padres para o serviço à Igreja e à comunidade.'\"\n> \n> **O Concílio e a Modernidade (8:00 - 10:00)**\n> \n> *   **Visual:**\n>     *   Imagens de cientistas e filósofos da época moderna (Galileu, Descartes, etc.).\n>     *   Representações de avanços científicos e tecnológicos.\n>     *   Gráfico comparando as visões do Concílio e da modernidade sobre a razão e a ciência.\n> *   **Áudio:**\n>     *   **[Música de fundo com tom um pouco mais complexo]**\n>     *   **[Efeito sonoro suave]**\n>     *   **Roteiro:**\n>         *   **[Apresentador(a)]:** \"Como o Concílio lidou com os valores emergentes da modernidade, como a razão e a ciência? O Concílio se adaptou bem à modernidade? Que tensões surgiram?\"\n>         *   \"É importante lembrar que o Concílio ocorreu em um período de grandes transformações intelectuais e científicas. A Igreja, por um lado, buscava preservar a sua doutrina e autoridade. Por outro, precisava lidar com as novas descobertas e ideias que desafiavam a sua visão do mundo.\"\n>         *   \"Essa tensão entre fé e razão, entre tradição e modernidade, ainda é relevante hoje em dia.\"\n> \n> **Críticas Modernas e Reinterpretações (10:00 - 13:00)**\n> \n> *   **Visual:**\n>     *   Citações de autores e estudiosos modernos que criticam o Concílio.\n>     *   Imagens de debates e discussões teológicas.\n>     *   Representações de diferentes modelos de Igreja.\n> *   **Áudio:**\n>     *   **[Música de fundo com tom crítico e reflexivo]**\n>     *   **[Efeito sonoro suave]**\n>     *   **Roteiro:**\n>         *   **[Apresentador(a)]:** \"O Concílio de Trento não escapou das críticas modernas. Alguns autores questionam o caráter dogmático de algumas decisões, como a indissolubilidade do matrimônio. Outros criticam o modelo de Igreja centralista e de confronto que emergiu do Concílio.\"\n>         *   \"É importante apresentar diferentes perspectivas e considerar os argumentos de cada lado. Quais são as principais críticas ao Concílio? Elas são justificadas? Como podemos reinterpretar as decisões do Concílio à luz do Concílio Vaticano II?\"\n>         *   \"**[Inserir trechos de entrevistas com teólogos ou historiadores (vídeos curtos ou áudios)]**: 'O Concílio de Trento, embora importante para a Igreja, precisa ser contextualizado e reinterpretado à luz das mudanças sociais e culturais dos últimos séculos.'\"\n> \n> **O Legado do Concílio de Trento (13:00 - 15:00)**\n> \n> *   **Visual:**\n>     *   Imagens da Igreja Católica atual.\n>     *   Representações de rituais e práticas religiosas modernas.\n>     *   Gráfico mostrando a evolução da Igreja Católica desde o Concílio de Trento.\n> *   **Áudio:**\n>     *   **[Música de fundo com tom inspirador e reflexivo]**\n>     *   **[Efeito sonoro suave]**\n>     *   **Roteiro:**\n>         *   **[Apresentador(a)]:** \"Qual o legado do Concílio de Trento para a Igreja Católica hoje? As decisões do Concílio ainda são relevantes? Os modelos de organização eclesial precisam ser revisados à luz do Concílio Vaticano II?\"\n>         *   \"É inegável que o Concílio de Trento moldou a Igreja Católica por séculos. Muitas das suas decisões ainda são seguidas hoje em dia. No entanto, é importante reconhecer que a Igreja evoluiu e se adaptou às mudanças do mundo.\"\n>         *   \"O Concílio Vaticano II, por exemplo, promoveu uma maior abertura e diálogo com outras religiões e com o mundo moderno. É fundamental que a Igreja continue a refletir sobre o seu passado e a buscar novas formas de responder aos desafios do presente.\"\n> \n> **Conclusão (15:00 - 16:00)**\n> \n> *   **Visual:**\n>     *   Retorno à imagem da miniatura.\n>     *   Tela final com informações do canal e links para outros vídeos.\n> *   **Áudio:**\n>     *   **[Música inspiradora]**\n>     *   **[Efeito sonoro suave]**\n>     *   **Roteiro:**\n>         *   **[Apresentador(a)]:** \"Chegamos ao final do nosso vídeo sobre o Concílio de Trento. Como vimos, este foi um evento complexo e multifacetado que teve um impacto profundo na história da Igreja Católica.\"\n>         *   \"Espero que este vídeo tenha sido útil para vocês. Se gostaram, deixem o seu like, compartilhem com seus amigos e inscrevam-se no canal para não perder os próximos vídeos.\"\n>         *   \"E agora, queremos saber a sua opinião: Qual sua opinião sobre o Concílio de Trento? Qual o impacto dele na Igreja Católica hoje? Deixem seus comentários abaixo. Vamos debater!\"\n>         *   \"Até a próxima!\"\n> \n> **Chamada para Ação (CTA):**\n> \n> *   **Visual:**\n>     *   Animação gráfica com os botões de \"Like\", \"Inscrever-se\" e \"Compartilhar\".\n>     *   Cards com links para outros vídeos relacionados.\n> *   **Áudio:**\n>     *   **[Apresentador(a)]:** \"Se você gostou deste vídeo, não se esqueça de deixar o seu like, inscrever-se no canal e compartilhar com seus amigos. E não deixe de conferir os outros vídeos do canal sobre história da Igreja e teologia.\"\n> \n> **SEO:**\n> \n> *   **Título:** Concílio de Trento: Reafirmações, Críticas e o Legado na Igreja Católica de Hoje\n> *   **Descrição:** Uma análise crítica do Concílio de Trento, suas principais decisões, as críticas modernas e o legado na Igreja Católica atual. Descubra como este evento moldou a Igreja e o que ainda é relevante hoje.\n> *   **Tags:** Concílio de Trento, Igreja Católica, Reforma Protestante, História da Igreja, Teologia, Dogmas, Doutrinas, Críticas, Reinterpretações, Concílio Vaticano II, Reafirmações, Autoridade Papal, Sacramentos, Formação do Clero, Modernidade, Controle Social.\n> \n> **Observações Adicionais:**\n> \n> *   Adaptar a linguagem ao público-alvo.\n> *   Utilizar legendas para acessibilidade.\n> *   Garantir boa qualidade de áudio e vídeo.\n> *   Interagir com os comentários e responder às perguntas dos espectadores.\n> \n> Este roteiro oferece uma estrutura completa para um vídeo informativo e envolvente sobre o Concílio de Trento. Ao seguir estas sugestões, você poderá criar um conteúdo de alta qualidade que atraia e engaje o seu público.\n> \n"
          },
          "metadata": {}
        },
        {
          "output_type": "stream",
          "name": "stdout",
          "text": [
            "---------------------------------\n",
            "\n",
            "\n",
            "--- Resultado do Agente 4 (Produtor Multimídia) ---\n",
            "\n"
          ]
        },
        {
          "output_type": "display_data",
          "data": {
            "text/plain": [
              "<IPython.core.display.Markdown object>"
            ],
            "text/markdown": "> Ok, aqui estão os arquivos multimídia necessários para a produção do vídeo sobre o Concílio de Trento, baseados no roteiro fornecido:\n> \n> **I. Visuais**\n> \n> 1.  **Abertura:**\n>     *   **Tipo:** Vídeo\n>     *   **Formato:** MP4\n>     *   **Duração:** 10 segundos\n>     *   **Descrição:** Montagem de imagens da Europa no século XVI: Reforma Protestante, mapas da época, retratos de Lutero e outros reformadores. Movimentos sutis de câmera e transições suaves.\n>     *   **Onde encontrar:**\n>         *   [https://www.shutterstock.com/](https://www.shutterstock.com/) (imagens e vídeos de arquivo)\n>         *   [https://pixabay.com/](https://pixabay.com/) (imagens e vídeos gratuitos)\n>     *   **Música:** Abertura de fundo (item III.1)\n> \n> 2.  **Logotipo e Título:**\n>     *   **Tipo:** Vídeo/Animação\n>     *   **Formato:** MP4 (com transparência, se possível)\n>     *   **Duração:** 5 segundos\n>     *   **Descrição:** Animação simples do logotipo do canal, seguido pelo título do vídeo sobreposto.\n>     *   **Onde encontrar:** Criado pelo designer gráfico do canal.\n> \n> 3.  **Imagens dos Sete Sacramentos:**\n>     *   **Tipo:** Imagens\n>     *   **Formato:** JPG/PNG\n>     *   **Quantidade:** 7 imagens\n>     *   **Descrição:** Representações artísticas clássicas dos sete sacramentos (Batismo, Confirmação, Eucaristia, Penitência, Unção dos Enfermos, Ordem e Matrimônio).\n>     *   **Onde encontrar:**\n>         *   [https://www.wga.hu/](https://www.wga.hu/) (Web Gallery of Art - domínio público)\n>         *   [https://commons.wikimedia.org/](https://commons.wikimedia.org/) (Wikimedia Commons - verificar licenças)\n> \n> 4.  **Autoridade Papal:**\n>     *   **Tipo:** Imagens\n>     *   **Formato:** JPG/PNG\n>     *   **Quantidade:** 2-3 imagens\n>     *   **Descrição:** Brasões papais, fotos do Vaticano (fachada, interior da Basílica de São Pedro).\n>     *   **Onde encontrar:**\n>         *   [https://www.vatican.va/](https://www.vatican.va/) (site oficial do Vaticano - imagens podem ter restrições)\n>         *   [https://pixabay.com/](https://pixabay.com/)\n> \n> 5.  **Culto aos Santos e Transubstanciação:**\n>     *   **Tipo:** Imagens\n>     *   **Formato:** JPG/PNG\n>     *   **Quantidade:** 2-3 imagens\n>     *   **Descrição:** Imagens de santos venerados, representações artísticas da Eucaristia e da Transubstanciação.\n>     *   **Onde encontrar:**\n>         *   [https://www.wga.hu/](https://www.wga.hu/)\n>         *   [https://commons.wikimedia.org/](https://commons.wikimedia.org/)\n> \n> 6.  **Gráfico Comparativo (Salvação):**\n>     *   **Tipo:** Imagem\n>     *   **Formato:** PNG/JPG\n>     *   **Descrição:** Gráfico simples comparando as visões católica e protestante sobre a salvação (fé vs. fé + obras).\n>     *   **Onde encontrar:** Criado pelo designer gráfico do canal.\n> \n> 7.  **Confessionários e Confissão:**\n>     *   **Tipo:** Imagens\n>     *   **Formato:** JPG/PNG\n>     *   **Quantidade:** 2-3 imagens\n>     *   **Descrição:** Pinturas ou ilustrações de confessionários antigos, cenas de confissão.\n>     *   **Onde encontrar:**\n>         *   [https://www.wga.hu/](https://www.wga.hu/)\n>         *   [https://commons.wikimedia.org/](https://commons.wikimedia.org/)\n> \n> 8.  **Regras e Regulamentos:**\n>     *   **Tipo:** Imagem\n>     *   **Formato:** JPG/PNG\n>     *   **Descrição:** Representações de documentos antigos, pergaminhos, ou textos que simbolizem regras e regulamentos da época.\n>     *   **Onde encontrar:**\n>         *   [https://www.shutterstock.com/](https://www.shutterstock.com/)\n>         *   [https://pixabay.com/](https://pixabay.com/)\n> \n> 9.  **Infográfico (Confissão):**\n>     *   **Tipo:** Imagem\n>     *   **Formato:** PNG\n>     *   **Descrição:** Infográfico sobre o sistema de confissão sistemática, explicando seu funcionamento e propósito.\n>     *   **Onde encontrar:** Criado pelo designer gráfico do canal.\n> \n> 10. **Seminários (Antigos e Modernos):**\n>     *   **Tipo:** Imagens\n>     *   **Formato:** JPG/PNG\n>     *   **Quantidade:** 2-4 imagens\n>     *   **Descrição:** Imagens de seminários antigos (arquitetura, salas de aula) e modernos.\n>     *   **Onde encontrar:**\n>         *   [https://commons.wikimedia.org/](https://commons.wikimedia.org/)\n>         *   [https://www.shutterstock.com/](https://www.shutterstock.com/)\n> \n> 11. **Aulas e Estudos Teológicos:**\n>     *   **Tipo:** Imagens\n>     *   **Formato:** JPG/PNG\n>     *   **Descrição:** Representações de aulas e estudos teológicos (estudantes lendo, debatendo).\n>     *   **Onde encontrar:**\n>         *   [https://www.wga.hu/](https://www.wga.hu/)\n>         *   [https://pixabay.com/](https://pixabay.com/)\n> \n> 12. **Padres e Líderes Religiosos:**\n>     *   **Tipo:** Fotos\n>     *   **Formato:** JPG/PNG\n>     *   **Quantidade:** 3-5 fotos\n>     *   **Descrição:** Fotos de padres e líderes religiosos em diferentes épocas.\n>     *   **Onde encontrar:**\n>         *   Arquivos da Igreja (se possível)\n>         *   [https://commons.wikimedia.org/](https://commons.wikimedia.org/)\n> \n> 13. **Cientistas e Filósofos (Modernidade):**\n>     *   **Tipo:** Imagens\n>     *   **Formato:** JPG/PNG\n>     *   **Quantidade:** 3-4 imagens\n>     *   **Descrição:** Retratos de cientistas e filósofos da época moderna (Galileu, Descartes, etc.).\n>     *   **Onde encontrar:**\n>         *   [https://www.wga.hu/](https://www.wga.hu/)\n>         *   [https://commons.wikimedia.org/](https://commons.wikimedia.org/)\n> \n> 14. **Avanços Científicos e Tecnológicos:**\n>     *   **Tipo:** Imagens/Vídeos curtos\n>     *   **Formato:** JPG/PNG/MP4\n>     *   **Descrição:** Representações de avanços científicos e tecnológicos da época (telescópios, mapas celestes, etc.).\n>     *   **Onde encontrar:**\n>         *   [https://www.shutterstock.com/](https://www.shutterstock.com/)\n>         *   [https://pixabay.com/](https://pixabay.com/)\n> \n> 15. **Gráfico Comparativo (Razão e Ciência):**\n>     *   **Tipo:** Imagem\n>     *   **Formato:** PNG\n>     *   **Descrição:** Gráfico comparando as visões do Concílio e da modernidade sobre a razão e a ciência.\n>     *   **Onde encontrar:** Criado pelo designer gráfico do canal.\n> \n> 16. **Citações de Autores Modernos:**\n>     *   **Tipo:** Imagens\n>     *   **Formato:** PNG\n>     *   **Descrição:** Citações curtas de autores e estudiosos modernos que criticam o Concílio, com seus nomes e referências. Design limpo e legível.\n>     *   **Onde encontrar:** Criado pelo designer gráfico do canal.\n> \n> 17. **Debates e Discussões Teológicas:**\n>     *   **Tipo:** Imagens\n>     *   **Formato:** JPG/PNG\n>     *   **Descrição:** Imagens de pessoas debatendo, livros, ambientes de discussão.\n>     *   **Onde encontrar:**\n>         *   [https://www.shutterstock.com/](https://www.shutterstock.com/)\n>         *   [https://pixabay.com/](https://pixabay.com/)\n> \n> 18. **Modelos de Igreja:**\n>     *   **Tipo:** Imagens\n>     *   **Formato:** JPG/PNG\n>     *   **Descrição:** Representações visuais de diferentes modelos de Igreja (tradicional, moderna, etc.). Podem ser mais abstratas e simbólicas.\n>     *   **Onde encontrar:** Criado pelo designer gráfico do canal.\n> \n> 19. **Igreja Católica Atual:**\n>     *   **Tipo:** Imagens\n>     *   **Formato:** JPG/PNG\n>     *   **Descrição:** Imagens da Igreja Católica atual (pessoas em missa, atividades sociais, etc.).\n>     *   **Onde encontrar:**\n>         *   [https://www.shutterstock.com/](https://www.shutterstock.com/)\n>         *   [https://pixabay.com/](https://pixabay.com/)\n> \n> 20. **Rituais e Práticas Religiosas Modernas:**\n>     *   **Tipo:** Imagens\n>     *   **Formato:** JPG/PNG\n>     *   **Descrição:** Representações de rituais e práticas religiosas modernas (celebrações, obras de caridade, etc.).\n>     *   **Onde encontrar:**\n>         *   [https://www.shutterstock.com/](https://www.shutterstock.com/)\n>         *   [https://pixabay.com/](https://pixabay.com/)\n> \n> 21. **Gráfico (Evolução da Igreja):**\n>     *   **Tipo:** Imagem\n>     *   **Formato:** PNG\n>     *   **Descrição:** Gráfico mostrando a evolução da Igreja Católica desde o Concílio de Trento até os dias atuais.\n>     *   **Onde encontrar:** Criado pelo designer gráfico do canal.\n> \n> 22. **Miniatura (Final):**\n>     *   **Tipo:** Imagem\n>     *   **Formato:** JPG/PNG\n>     *   **Descrição:** Imagem da miniatura usada no início do vídeo, com o título e o logo do canal.\n>     *   **Onde encontrar:** Criado pelo designer gráfico do canal.\n> \n> 23. **Tela Final:**\n>     *   **Tipo:** Vídeo\n>     *   **Formato:** MP4\n>     *   **Duração:** 5-10 segundos\n>     *   **Descrição:** Tela final com informações do canal, links para outros vídeos e redes sociais.\n>     *   **Onde encontrar:** Criado pelo designer gráfico do canal.\n> \n> 24. **Chamada para Ação (CTA):**\n>     *   **Tipo:** Vídeo/Animação\n>     *   **Formato:** MP4 (com transparência, se possível)\n>     *   **Duração:** 5 segundos\n>     *   **Descrição:** Animação gráfica com os botões de \"Like\", \"Inscrever-se\" e \"Compartilhar\".\n>     *   **Onde encontrar:** Criado pelo designer gráfico do canal.\n> \n> **II. Áudios**\n> \n> 1.  **Música de Fundo (Introdução):**\n>     *   **Tipo:** Música\n>     *   **Formato:** MP3/WAV\n>     *   **Duração:** 1 minuto\n>     *   **Descrição:** Música clássica suave e reflexiva.\n>     *   **Onde encontrar:**\n>         *   [https://www.youtube.com/audiolibrary/](https://www.youtube.com/audiolibrary/) (Biblioteca de áudio do YouTube - gratuita)\n>         *   [https://www.epidemicsound.com/](https://www.epidemicsound.com/) (paga, com licença para uso comercial)\n> \n> 2.  **Música de Fundo (Desenvolvimento):**\n>     *   **Tipo:** Música\n>     *   **Formato:** MP3/WAV\n>     *   **Duração:** Variável (acompanha o vídeo)\n>     *   **Descrição:** Variações na intensidade da música de acordo com o tema (mais tensa em críticas, mais suave em legados). Pode ser a mesma música da introdução, com diferentes arranjos.\n>     *   **Onde encontrar:** Mesmas fontes da música de introdução.\n> \n> 3.  **Música de Fundo (Conclusão):**\n>     *   **Tipo:** Música\n>     *   **Formato:** MP3/WAV\n>     *   **Duração:** 1 minuto\n>     *   **Descrição:** Música inspiradora e convidativa ao debate.\n>     *   **Onde encontrar:** Mesmas fontes da música de introdução.\n> \n> 4.  **Efeitos Sonoros:**\n>     *   **Tipo:** Efeitos Sonoros\n>     *   **Formato:** MP3/WAV\n>     *   **Descrição:** Efeitos sonoros suaves para transições entre tópicos, realçar momentos importantes, etc. (ex: sino, folhear de páginas).\n>     *   **Onde encontrar:**\n>         *   [https://www.zapsplat.com/](https://www.zapsplat.com/) (gratuito e pago)\n>         *   [https://freesound.org/](https://freesound.org/) (gratuito)\n> \n> 5.  **Fala do Especialista/Padre/Seminarista:**\n>     *   **Tipo:** Áudio/Vídeo\n>     *   **Formato:** MP3/MP4\n>     *   **Duração:** 15-30 segundos cada\n>     *   **Descrição:** Trechos de entrevistas ou depoimentos em áudio ou vídeo.\n>     *   **Onde encontrar:** A ser gravado ou obtido com os especialistas.\n> \n> **III. Outros**\n> \n> *   **Roteiro Narrado:**\n>     *   **Tipo:** Áudio\n>     *   **Formato:** MP3/WAV\n>     *   **Descrição:** Narração completa do roteiro pelo apresentador(a).\n>     *   **Onde encontrar:** A ser gravado pelo apresentador(a).\n> \n> **Observações:**\n> \n> *   **Licenças:** Verifique sempre as licenças de uso das imagens, vídeos e músicas antes de utilizá-los.\n> *   **Design Gráfico:** O designer gráfico do canal será responsável pela criação de gráficos, animações e outros elementos visuais personalizados.\n> *   **Edição:** A edição de vídeo é crucial para juntar todos os elementos de forma coesa e criar um produto final de alta qualidade.\n> *   **Onde Encontrar:** Os links fornecidos são apenas sugestões. Existem muitos outros sites e recursos disponíveis online.\n> \n> Este plano detalhado deve fornecer uma base sólida para a produção do vídeo sobre o Concílio de Trento. Lembre-se de adaptar os recursos às necessidades e ao estilo do seu canal.\n"
          },
          "metadata": {}
        },
        {
          "output_type": "stream",
          "name": "stdout",
          "text": [
            "---------------------------------\n",
            "\n"
          ]
        }
      ],
      "execution_count": 4,
      "metadata": {
        "colab": {
          "base_uri": "https://localhost:8080/",
          "height": 1000
        },
        "id": "yogUOrhUiQGi",
        "outputId": "4b1bb40a-7e56-42d0-d009-7dd72fcc7791"
      }
    }
  ],
  "metadata": {
    "colab": {
      "provenance": [],
      "include_colab_link": true
    },
    "kernelspec": {
      "display_name": "Python 3",
      "name": "python3"
    }
  },
  "nbformat": 4,
  "nbformat_minor": 0
}